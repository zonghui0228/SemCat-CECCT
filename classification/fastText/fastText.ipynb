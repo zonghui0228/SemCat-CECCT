{
 "cells": [
  {
   "cell_type": "markdown",
   "metadata": {},
   "source": [
    "<h1 align=\"center\">fastText for text classification</h1>\n",
    "\n",
    "***"
   ]
  },
  {
   "cell_type": "markdown",
   "metadata": {},
   "source": [
    "In this notebook, we will train a fastText model for criteria sentence classification, and evalute the performance in test data."
   ]
  },
  {
   "cell_type": "markdown",
   "metadata": {},
   "source": [
    "**What is fastText?**\n",
    "fastText is a library for efficient learning of word representations and sentence classification."
   ]
  },
  {
   "cell_type": "markdown",
   "metadata": {},
   "source": [
    "* training data (22962 sentences), validation data (7682 sentences) test data (7697 sentences)\n",
    "* 44 semantic categories"
   ]
  },
  {
   "cell_type": "markdown",
   "metadata": {},
   "source": [
    "|#|group topics|semantic categories|\n",
    "|---|---|----\n",
    "|1|`Health Status`|`Disease` `Symptom` `Sign` `Pregnancy-related Activity` `Neoplasm Status` `Non-Neoplasm Disease Stage` `Allergy Intolerance` `Organ or Tissue Status` `Life Expectancy` `Oral related`\n",
    "|2|`Treatment or Health Care`|`Pharmaceutical Substance or Drug` `Therapy or Surgery` `Device` `Nursing`\n",
    "|3|`Diagnostic or Lab Test`|`Diagnostic` `Laboratory Examinations` `Risk Assessment` `Receptor Status`\n",
    "|4|`Demographic Characteristics`|`Age` `Special Patient Characteristic` `Literacy` `Gender` `Education` `Address` `Ethnicity`\n",
    "|5|`Ethical Consideration`|`Consent` `Enrollment in other studies` `Researcher Decision` `Capacity` `Ethical Audit` `Compliance with Protocol`\n",
    "|6|`Lifestyle Choice`|`Addictive Behavior` `Bedtime` `Exercise` `Diet` `Alcohol Consumer` `Sexual related` `Smoking Status` `Blood Donation`\n",
    "|7|`Data or Patient Source`|`Encounter` `Disabilities` `Healthy` `Data Accessible`\n",
    "|8|`Other`|`Multiple`"
   ]
  },
  {
   "cell_type": "code",
   "execution_count": 114,
   "metadata": {},
   "outputs": [],
   "source": [
    "import os sys\n",
    "import fasttext\n",
    "import codecs\n",
    "import jieba"
   ]
  },
  {
   "cell_type": "markdown",
   "metadata": {},
   "source": [
    "<h2>Getting and preparing the data</h2>\n",
    "\n",
    "***"
   ]
  },
  {
   "cell_type": "markdown",
   "metadata": {},
   "source": [
    "Before training our first classifier, we need to prepare the train data and test data. We will use the test data to evaluate how good the learned classifier is."
   ]
  },
  {
   "cell_type": "markdown",
   "metadata": {},
   "source": [
    "Each line of the text file contains a list of labels, followed by the corresponding sentence. All the labels start by the _ _label_ _ prefix, which is how fastText recognize what is a label or what is a word. The model is then trained to predict the labels given the word in the document."
   ]
  },
  {
   "cell_type": "markdown",
   "metadata": {},
   "source": [
    "train data:"
   ]
  },
  {
   "cell_type": "code",
   "execution_count": 115,
   "metadata": {},
   "outputs": [],
   "source": [
    "with open(\"criteria.train\", \"w\", encoding=\"utf-8\") as outf:\n",
    "    with open(\"./data/train_data.txt\", \"r\", encoding=\"utf-8\") as inf:\n",
    "        for line in inf:\n",
    "            l = line.strip().split(\"\\t\")\n",
    "            sentence = jieba.cut(l[2].strip().replace(\"\\t\", \" \").replace(\"\\n\", \" \"))\n",
    "            outf.write(\"__label__{} {}\\n\".format(l[1].replace(\" \", \"_\"), \" \".join(list(sentence))))"
   ]
  },
  {
   "cell_type": "markdown",
   "metadata": {},
   "source": [
    "validation data:"
   ]
  },
  {
   "cell_type": "code",
   "execution_count": 118,
   "metadata": {},
   "outputs": [],
   "source": [
    "with open(\"criteria.valid\", \"w\", encoding=\"utf-8\") as outf:\n",
    "    with open(\"./data/validation_data.txt\", \"r\", encoding=\"utf-8\") as inf:\n",
    "        for line in inf:\n",
    "            l = line.strip().split(\"\\t\")\n",
    "            sentence = jieba.cut(l[2].strip().replace(\"\\t\", \" \").replace(\"\\n\", \" \"))\n",
    "            outf.write(\"__label__{} {}\\n\".format(l[1].replace(\" \", \"_\"), \" \".join(list(sentence))))"
   ]
  },
  {
   "cell_type": "markdown",
   "metadata": {},
   "source": [
    "test data:"
   ]
  },
  {
   "cell_type": "code",
   "execution_count": 117,
   "metadata": {},
   "outputs": [],
   "source": [
    "with open(\"criteria.test\", \"w\", encoding=\"utf-8\") as outf:\n",
    "    with open(\"./data/test_data.txt\", \"r\", encoding=\"utf-8\") as inf:\n",
    "        for line in inf:\n",
    "            l = line.strip().split(\"\\t\")\n",
    "            sentence = jieba.cut(l[2].strip().replace(\"\\t\", \" \").replace(\"\\n\", \" \"))\n",
    "            outf.write(\"__label__{} {}\\n\".format(l[1].replace(\" \", \"_\"), \" \".join(list(sentence))))"
   ]
  },
  {
   "cell_type": "markdown",
   "metadata": {},
   "source": [
    "<h2>fastText classifier</h2>\n",
    "\n",
    "***"
   ]
  },
  {
   "cell_type": "markdown",
   "metadata": {},
   "source": [
    "Automatic hyperparameter optimization"
   ]
  },
  {
   "cell_type": "code",
   "execution_count": 119,
   "metadata": {},
   "outputs": [],
   "source": [
    "model = fasttext.train_supervised(input=\"criteria.train\",autotuneValidationFile='criteria.valid')"
   ]
  },
  {
   "cell_type": "code",
   "execution_count": 120,
   "metadata": {},
   "outputs": [
    {
     "data": {
      "text/plain": [
       "(7697, 0.8162920618422762, 0.8162920618422762)"
      ]
     },
     "execution_count": 120,
     "metadata": {},
     "output_type": "execute_result"
    }
   ],
   "source": [
    "model.test(\"criteria.test\")"
   ]
  },
  {
   "cell_type": "markdown",
   "metadata": {},
   "source": [
    "<h2>Save model and test data results</h2>\n",
    "\n",
    "***"
   ]
  },
  {
   "cell_type": "markdown",
   "metadata": {},
   "source": [
    "call save_model to save it as a file."
   ]
  },
  {
   "cell_type": "code",
   "execution_count": 121,
   "metadata": {},
   "outputs": [],
   "source": [
    "model.save_model(\"fastText_criteria.bin\")"
   ]
  },
  {
   "cell_type": "markdown",
   "metadata": {},
   "source": [
    "load model with load_model function, and evaluate on test data."
   ]
  },
  {
   "cell_type": "code",
   "execution_count": 122,
   "metadata": {},
   "outputs": [
    {
     "name": "stdout",
     "output_type": "stream",
     "text": [
      "Warning : `load_model` does not return WordVectorModel or SupervisedModel any more, but a `FastText` object which is very similar.\n"
     ]
    }
   ],
   "source": [
    "test_data_file = \"criteria.test\"\n",
    "test_results_save_file = \"test_data_predict.txt\"\n",
    "\n",
    "criteria_ids, criteria_sentences = [], []\n",
    "with open(test_data_file, \"r\", encoding=\"utf-8\") as inf:\n",
    "    c = 0\n",
    "    for line in inf:\n",
    "        c += 1\n",
    "        l = line.strip().split(\" \")\n",
    "        criteria_ids.append(\"s{}\".format(c))\n",
    "        criteria_sentences.append(\" \".join(l[1:]))\n",
    "        \n",
    "model = fasttext.load_model(\"fastText_criteria.bin\")        \n",
    "predicted = model.predict(criteria_sentences, k=1)\n",
    "\n",
    "with codecs.open(test_results_save_file, \"w\", encoding=\"utf-8\") as outf:\n",
    "    for i in range(len(criteria_ids)):\n",
    "        outf.write(\"{}\\t{}\\t{}\\n\".format(criteria_ids[i], predicted[0][i][0].replace(\"__label__\", \"\").replace(\"_\", \" \"), \"\".join(criteria_sentences[i].split())))"
   ]
  },
  {
   "cell_type": "markdown",
   "metadata": {},
   "source": [
    "<h2>Evaluation</h2>\n",
    "\n",
    "***"
   ]
  },
  {
   "cell_type": "code",
   "execution_count": 123,
   "metadata": {},
   "outputs": [
    {
     "data": {
      "text/plain": [
       "0"
      ]
     },
     "execution_count": 123,
     "metadata": {},
     "output_type": "execute_result"
    }
   ],
   "source": [
    "test_data_file = \"../data/test_data.txt\"\n",
    "test_results_save_file = \"test_data_predict.txt\"\n",
    "test_results_evaluation_save_file = \"test_data_evaluation.txt\"\n",
    "os.system(\"python evaluation.py {} {} > {}\".format(test_data_file, test_results_save_file, test_results_evaluation_save_file))"
   ]
  },
  {
   "cell_type": "code",
   "execution_count": 124,
   "metadata": {},
   "outputs": [
    {
     "name": "stdout",
     "output_type": "stream",
     "text": [
      "**************************************** Evaluation results*****************************************\n",
      "                                       Precision.       Recall.          f1.            \n",
      "                 Addictive Behavior    0.9012           0.8295           0.8639         \n",
      "                            Address    0.6154           0.6667           0.6400         \n",
      "                                Age    0.9769           0.9705           0.9737         \n",
      "                   Alcohol Consumer    0.6250           0.8333           0.7143         \n",
      "                Allergy Intolerance    0.9355           0.9103           0.9227         \n",
      "                            Bedtime    1.0000           0.5833           0.7368         \n",
      "                     Blood Donation    0.8182           0.8182           0.8182         \n",
      "                           Capacity    0.5574           0.6071           0.5812         \n",
      "           Compliance with Protocol    0.7576           0.8333           0.7937         \n",
      "                            Consent    0.9400           0.9400           0.9400         \n",
      "                    Data Accessible    0.9048           0.7600           0.8261         \n",
      "                             Device    0.5357           0.3261           0.4054         \n",
      "                         Diagnostic    0.8200           0.7866           0.8029         \n",
      "                               Diet    0.6522           0.6522           0.6522         \n",
      "                       Disabilities    1.0000           0.4286           0.6000         \n",
      "                            Disease    0.8318           0.8822           0.8562         \n",
      "                          Education    0.8571           0.8571           0.8571         \n",
      "                          Encounter    0.6296           0.6800           0.6538         \n",
      "        Enrollment in other studies    0.9027           0.9598           0.9304         \n",
      "                      Ethical Audit    1.0000           0.8182           0.9000         \n",
      "                          Ethnicity    0.3333           0.2000           0.2500         \n",
      "                           Exercise    0.8333           0.7143           0.7692         \n",
      "                             Gender    1.0000           0.7273           0.8421         \n",
      "                            Healthy    0.4286           0.4615           0.4444         \n",
      "            Laboratory Examinations    0.8095           0.7948           0.8021         \n",
      "                    Life Expectancy    0.9636           0.9636           0.9636         \n",
      "                           Literacy    0.5556           0.3125           0.4000         \n",
      "                           Multiple    0.7411           0.7266           0.7338         \n",
      "                    Neoplasm Status    0.5000           0.5455           0.5217         \n",
      "         Non-Neoplasm Disease Stage    0.6087           0.4375           0.5091         \n",
      "                            Nursing    0.5000           0.3333           0.4000         \n",
      "                       Oral related    0.6667           0.6316           0.6486         \n",
      "             Organ or Tissue Status    0.8049           0.8250           0.8148         \n",
      "   Pharmaceutical Substance or Drug    0.8382           0.8633           0.8506         \n",
      "         Pregnancy-related Activity    0.9419           0.9419           0.9419         \n",
      "                    Receptor Status    1.0000           0.1111           0.2000         \n",
      "                Researcher Decision    0.9085           0.9205           0.9145         \n",
      "                    Risk Assessment    0.8632           0.8860           0.8745         \n",
      "                     Sexual related    1.0000           0.4615           0.6316         \n",
      "                               Sign    0.4429           0.3196           0.3713         \n",
      "                     Smoking Status    0.9474           0.9474           0.9474         \n",
      "     Special Patient Characteristic    0.4800           0.3158           0.3810         \n",
      "                            Symptom    0.3810           0.3200           0.3478         \n",
      "                 Therapy or Surgery    0.7657           0.8105           0.7875         \n",
      "                                       ---------------  ---------------  ---------------\n",
      "                    Overall (micro)    0.8163           0.8163           0.816292       \n",
      "                    Overall (macro)    0.7631           0.6753           0.700364\n"
     ]
    }
   ],
   "source": [
    "with open(test_results_evaluation_save_file, \"r\") as f:\n",
    "    for line in f:\n",
    "        print(line.strip(\"\\n\"))"
   ]
  },
  {
   "cell_type": "markdown",
   "metadata": {},
   "source": [
    "<h2>Predict a new input criteria sentence with saved model</h2>\n",
    "\n",
    "***"
   ]
  },
  {
   "cell_type": "code",
   "execution_count": 125,
   "metadata": {},
   "outputs": [
    {
     "name": "stdout",
     "output_type": "stream",
     "text": [
      "['性别不限', '年龄大18岁，', '病人对研究药物过敏。']\n",
      "['性别 不 限', '年龄 大 18 岁 ，', '病人 对 研究 药物 过敏 。']\n",
      "Warning : `load_model` does not return WordVectorModel or SupervisedModel any more, but a `FastText` object which is very similar.\n",
      "([['__label__Gender'], ['__label__Age'], ['__label__Allergy_Intolerance']], [array([1.00001], dtype=float32), array([1.00001], dtype=float32), array([1.0000099], dtype=float32)])\n"
     ]
    }
   ],
   "source": [
    "examples = [\"性别不限\", \"年龄大18岁，\", \"病人对研究药物过敏。\"]\n",
    "print(examples)\n",
    "sentences = [\" \".join(list(jieba.cut(s.strip().replace(\"\\t\", \" \").replace(\"\\n\", \" \")))) for s in examples]\n",
    "print(sentences)\n",
    "\n",
    "model = fasttext.load_model(\"fastText_criteria.bin\") \n",
    "results = model.predict(sentences, k=1)\n",
    "print(results)"
   ]
  },
  {
   "cell_type": "code",
   "execution_count": null,
   "metadata": {},
   "outputs": [],
   "source": []
  }
 ],
 "metadata": {
  "kernelspec": {
   "display_name": "Python 3",
   "language": "python",
   "name": "python3"
  },
  "language_info": {
   "codemirror_mode": {
    "name": "ipython",
    "version": 3
   },
   "file_extension": ".py",
   "mimetype": "text/x-python",
   "name": "python",
   "nbconvert_exporter": "python",
   "pygments_lexer": "ipython3",
   "version": "3.7.3"
  }
 },
 "nbformat": 4,
 "nbformat_minor": 2
}
